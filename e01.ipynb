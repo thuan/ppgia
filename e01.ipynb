{
 "cells": [
  {
   "cell_type": "markdown",
   "metadata": {},
   "source": [
    "<img style=\"float: right;\" src=\"fig/unifor.jpg\" width=\"250px\">\n",
    "\n",
    "# Introdução à Ciência de Dados\n",
    "Prof. Erneson A. Oliveira<br>\n",
    "Laboratório de Ciência de Dados e Inteligência Artificial (LCDIA)<br>\n",
    "Universidade de Fortaleza"
   ]
  },
  {
   "cell_type": "markdown",
   "metadata": {},
   "source": [
    "# Lista de Exercícios"
   ]
  },
  {
   "cell_type": "markdown",
   "metadata": {},
   "source": [
    "# Exercício 1:\n",
    "\n",
    "Quantos números de três algarismos existem cuja soma dos seus três algarismos seja igual a 7?\n",
    "\n",
    "a) 1<br>\n",
    "b) 7<br>\n",
    "c) 28<br>\n",
    "d) 45<br>\n",
    "e) 71"
   ]
  },
  {
   "cell_type": "code",
   "execution_count": 79,
   "metadata": {},
   "outputs": [
    {
     "name": "stdout",
     "output_type": "stream",
     "text": [
      "1 0 6\n",
      "1 1 5\n",
      "1 2 4\n",
      "1 3 3\n",
      "1 4 2\n",
      "1 5 1\n",
      "1 6 0\n",
      "2 0 5\n",
      "2 1 4\n",
      "2 2 3\n",
      "2 3 2\n",
      "2 4 1\n",
      "2 5 0\n",
      "3 0 4\n",
      "3 1 3\n",
      "3 2 2\n",
      "3 3 1\n",
      "3 4 0\n",
      "4 0 3\n",
      "4 1 2\n",
      "4 2 1\n",
      "4 3 0\n",
      "5 0 2\n",
      "5 1 1\n",
      "5 2 0\n",
      "6 0 1\n",
      "6 1 0\n",
      "7 0 0\n",
      "Quantidade de números de três algarismos cuja soma dos seus três algarismos seja igual a 7 é 28\n"
     ]
    }
   ],
   "source": [
    "cont=0\n",
    "for i in range(1,8):\n",
    "    for j in range(0,8):\n",
    "        for k in range(0,8):\n",
    "            if i + j + k == 7:\n",
    "                cont = cont + 1\n",
    "                print(i,j,k)\n",
    "print('Quantidade de números de três algarismos cuja soma dos seus três algarismos seja igual a 7 é',cont)"
   ]
  },
  {
   "cell_type": "markdown",
   "metadata": {},
   "source": [
    "# Exercício 2:\n",
    "\n",
    "Um professor deseja saber se existe correlação entre o tempo dedicado ao estudo e a nota da prova dos seus alunos. Para isso, ele sorteou 8 alunos da turma e perguntou quanto tempo eles estudaram para a última prova (tabela abaixo).\n",
    "\n",
    "| Aluno | x (Horas) | y (Nota) |\n",
    "| --- | --- | --- |\n",
    "| A | 8 | 10 |\n",
    "| B | 7 | 8 |\n",
    "| C | 6 | 4 |\n",
    "| D | 3 | 8 |\n",
    "| E | 3 | 6 |\n",
    "| F | 6 | 9 |\n",
    "| G | 5 | 7 |\n",
    "| H | 2 | 4 |\n",
    "\n",
    "Você poderia ajudar o professor, calculando o resultado analítico do coeficiente de correlação ($r$), também conhecido como coeficiente de Pearson, e o coeficiente de determinação ($r^2$)?\n",
    "\n",
    "a) $r=0.82$ e $r^2=0.9901$.<br>\n",
    "b) $r=0.15$ e $r^2=0.0536$.<br>\n",
    "c) $r=0.73$ e $r^2=0.8500$.<br>\n",
    "d) $r=0.85$ e $r^2=0.3490$.<br>\n",
    "e) $r=0.58$ e $r^2=0.33$."
   ]
  },
  {
   "cell_type": "markdown",
   "metadata": {},
   "source": [
    "Cálculo da Correlação utilizando os recursos do python"
   ]
  },
  {
   "cell_type": "code",
   "execution_count": 20,
   "metadata": {},
   "outputs": [
    {
     "name": "stdout",
     "output_type": "stream",
     "text": [
      "O coeficiente de correlação é 0.58\n",
      "O coeficiente de determinação é 0.33\n"
     ]
    }
   ],
   "source": [
    "import numpy\n",
    "list1=[8, 7, 6, 3, 3, 6, 5, 2]\n",
    "list2=[10, 8, 4, 8, 6, 9, 7, 4]\n",
    "r= numpy.corrcoef(list1, list2)[0, 1]\n",
    "print('O coeficiente de correlação é %.2f'% r)\n",
    "print('O coeficiente de determinação é %.2f' % r**2)\n"
   ]
  },
  {
   "cell_type": "markdown",
   "metadata": {},
   "source": [
    "<img style=\"float: left;\" src=\"fig/Correlação.jpg\" width=\"250px\">"
   ]
  },
  {
   "cell_type": "markdown",
   "metadata": {},
   "source": [
    "Cálculo da Correlação de forma analítica"
   ]
  },
  {
   "cell_type": "code",
   "execution_count": 83,
   "metadata": {},
   "outputs": [
    {
     "data": {
      "text/html": [
       "<div>\n",
       "<style scoped>\n",
       "    .dataframe tbody tr th:only-of-type {\n",
       "        vertical-align: middle;\n",
       "    }\n",
       "\n",
       "    .dataframe tbody tr th {\n",
       "        vertical-align: top;\n",
       "    }\n",
       "\n",
       "    .dataframe thead th {\n",
       "        text-align: right;\n",
       "    }\n",
       "</style>\n",
       "<table border=\"1\" class=\"dataframe\">\n",
       "  <thead>\n",
       "    <tr style=\"text-align: right;\">\n",
       "      <th></th>\n",
       "      <th>x (Horas)</th>\n",
       "      <th>y (Nota)</th>\n",
       "    </tr>\n",
       "  </thead>\n",
       "  <tbody>\n",
       "    <tr>\n",
       "      <th>0</th>\n",
       "      <td>8</td>\n",
       "      <td>10</td>\n",
       "    </tr>\n",
       "    <tr>\n",
       "      <th>1</th>\n",
       "      <td>7</td>\n",
       "      <td>8</td>\n",
       "    </tr>\n",
       "    <tr>\n",
       "      <th>2</th>\n",
       "      <td>6</td>\n",
       "      <td>4</td>\n",
       "    </tr>\n",
       "    <tr>\n",
       "      <th>3</th>\n",
       "      <td>3</td>\n",
       "      <td>8</td>\n",
       "    </tr>\n",
       "    <tr>\n",
       "      <th>4</th>\n",
       "      <td>3</td>\n",
       "      <td>6</td>\n",
       "    </tr>\n",
       "    <tr>\n",
       "      <th>5</th>\n",
       "      <td>6</td>\n",
       "      <td>9</td>\n",
       "    </tr>\n",
       "    <tr>\n",
       "      <th>6</th>\n",
       "      <td>5</td>\n",
       "      <td>7</td>\n",
       "    </tr>\n",
       "    <tr>\n",
       "      <th>7</th>\n",
       "      <td>2</td>\n",
       "      <td>4</td>\n",
       "    </tr>\n",
       "  </tbody>\n",
       "</table>\n",
       "</div>"
      ],
      "text/plain": [
       "   x (Horas)  y (Nota)\n",
       "0          8        10\n",
       "1          7         8\n",
       "2          6         4\n",
       "3          3         8\n",
       "4          3         6\n",
       "5          6         9\n",
       "6          5         7\n",
       "7          2         4"
      ]
     },
     "execution_count": 83,
     "metadata": {},
     "output_type": "execute_result"
    }
   ],
   "source": [
    "d0 = {'x (Horas)': [8, 7, 6, 3, 3, 6, 5, 2], 'y (Nota)': [10, 8, 4, 8, 6, 9, 7, 4]}\n",
    "df0 = pd.DataFrame(data=d0)\n",
    "df0"
   ]
  },
  {
   "cell_type": "code",
   "execution_count": 99,
   "metadata": {},
   "outputs": [],
   "source": [
    "df0['xi - mediax'] = (df0['x (Horas)'] - df0['x (Horas)'].mean())\n",
    "df0['yi - mediay'] = (df0['y (Nota)'] - df0['y (Nota)'].mean())\n",
    "df0['(xi - mediax)^2'] = (df0['x (Horas)'] - df0['x (Horas)'].mean())**2\n",
    "df0['(yi - mediay)^2'] = (df0['y (Nota)'] - df0['y (Nota)'].mean())**2\n",
    "df0['(xi - mediax)*(yi - mediay)']=df0['xi - mediax']*df0['yi - mediay']"
   ]
  },
  {
   "cell_type": "code",
   "execution_count": 105,
   "metadata": {},
   "outputs": [
    {
     "name": "stdout",
     "output_type": "stream",
     "text": [
      "O coeficiente de correlação é 0.58\n",
      "O coeficiente de determinação é 0.33\n"
     ]
    }
   ],
   "source": [
    "r=(df0['(xi - mediax)*(yi - mediay)'].sum())/(((df0['(xi - mediax)^2'].sum())**0.5)*(df0['(yi - mediay)^2'].sum())**0.5)\n",
    "print('O coeficiente de correlação é %.2f'% r)\n",
    "print('O coeficiente de determinação é %.2f' % r**2)"
   ]
  },
  {
   "cell_type": "markdown",
   "metadata": {},
   "source": [
    "# Exercício 3:\n",
    "\n",
    "Um biólogo mediu a quantidade de um determinado poluente (em $\\mu g/L$) nas águas de um riacho, próximo a uma fábrica, e calculou um índice de dano ecológico (tabela abaixo).\n",
    "\n",
    "|x (Quantidade de poluente) | y (Índice de dano ecológico) |\n",
    "| --- | --- |\n",
    "| 1 | 3 |\n",
    "| 2 | 6 |\n",
    "| 3 | 7 |\n",
    "| 4 | 10 |\n",
    "| 5 | 10 |\n",
    "| 6 | 12 |\n",
    "\n",
    "Você poderia calcular analiticamente, através do Método dos Mínimos Quadrados, os valores dos parâmetros $a$ e $b$ para o modelo linear $\\hat{y}=a+bx$ que descreve esse dado?\n",
    "\n",
    "a) $a=2.02$ e $b=1.71$.<br>\n",
    "b) $a=1.01$ e $b=1.69$.<br>\n",
    "c) $a=1.90$ e $b=1.52$.<br>\n",
    "d) $a=1.21$ e $b=2.06$.<br>\n",
    "e) $a=1.98$ e $b=1.67$."
   ]
  },
  {
   "cell_type": "markdown",
   "metadata": {},
   "source": [
    "Cálculo dos parâmetros utilizando os recursos do python"
   ]
  },
  {
   "cell_type": "code",
   "execution_count": 110,
   "metadata": {},
   "outputs": [],
   "source": [
    "import pandas as pd\n",
    "import numpy as np\n",
    "from scipy import stats\n",
    "\n",
    "d = {'x(Quantidade de poluente)': [1, 2, 3, 4, 5, 6], 'y(Índice de dano ecológico)': [3, 6, 7, 10, 10, 12]}\n",
    "df2 = pd.DataFrame(data=d)\n",
    "\n",
    "x=np.array(df2['x(Quantidade de poluente)'])\n",
    "y=np.array(df2['y(Índice de dano ecológico)'])\n",
    "\n",
    "theta_1, theta_0, r_value, p_value, std_err = stats.linregress(x,y)\n",
    "\n"
   ]
  },
  {
   "cell_type": "code",
   "execution_count": 108,
   "metadata": {},
   "outputs": [
    {
     "name": "stdout",
     "output_type": "stream",
     "text": [
      "O valor de a é 2.00\n",
      "O valor de b é 1.71\n"
     ]
    }
   ],
   "source": [
    "print('O valor de a é %.2f'% theta_0)\n",
    "print('O valor de b é %.2f'% theta_1)"
   ]
  },
  {
   "cell_type": "markdown",
   "metadata": {},
   "source": [
    "Cálculo dos parâmetros de forma analítica, utilizando os mínimos quadrados."
   ]
  },
  {
   "cell_type": "markdown",
   "metadata": {},
   "source": [
    "Calculam-se as derivadas parciais da função em relação aos parâmetros a e b e iguala-se a zero para se obter o mínimo. Após esse cálculo, por meio de um sistema com duas equações e duas incógnitas, os valores de a e b são calculados em função de x e y."
   ]
  },
  {
   "cell_type": "code",
   "execution_count": 113,
   "metadata": {
    "scrolled": true
   },
   "outputs": [
    {
     "data": {
      "text/html": [
       "<div>\n",
       "<style scoped>\n",
       "    .dataframe tbody tr th:only-of-type {\n",
       "        vertical-align: middle;\n",
       "    }\n",
       "\n",
       "    .dataframe tbody tr th {\n",
       "        vertical-align: top;\n",
       "    }\n",
       "\n",
       "    .dataframe thead th {\n",
       "        text-align: right;\n",
       "    }\n",
       "</style>\n",
       "<table border=\"1\" class=\"dataframe\">\n",
       "  <thead>\n",
       "    <tr style=\"text-align: right;\">\n",
       "      <th></th>\n",
       "      <th>x(Quantidade de poluente)</th>\n",
       "      <th>y(Índice de dano ecológico)</th>\n",
       "      <th>x*y</th>\n",
       "      <th>x**2</th>\n",
       "    </tr>\n",
       "  </thead>\n",
       "  <tbody>\n",
       "    <tr>\n",
       "      <th>0</th>\n",
       "      <td>1</td>\n",
       "      <td>3</td>\n",
       "      <td>3</td>\n",
       "      <td>1</td>\n",
       "    </tr>\n",
       "    <tr>\n",
       "      <th>1</th>\n",
       "      <td>2</td>\n",
       "      <td>6</td>\n",
       "      <td>12</td>\n",
       "      <td>4</td>\n",
       "    </tr>\n",
       "    <tr>\n",
       "      <th>2</th>\n",
       "      <td>3</td>\n",
       "      <td>7</td>\n",
       "      <td>21</td>\n",
       "      <td>9</td>\n",
       "    </tr>\n",
       "    <tr>\n",
       "      <th>3</th>\n",
       "      <td>4</td>\n",
       "      <td>10</td>\n",
       "      <td>40</td>\n",
       "      <td>16</td>\n",
       "    </tr>\n",
       "    <tr>\n",
       "      <th>4</th>\n",
       "      <td>5</td>\n",
       "      <td>10</td>\n",
       "      <td>50</td>\n",
       "      <td>25</td>\n",
       "    </tr>\n",
       "    <tr>\n",
       "      <th>5</th>\n",
       "      <td>6</td>\n",
       "      <td>12</td>\n",
       "      <td>72</td>\n",
       "      <td>36</td>\n",
       "    </tr>\n",
       "  </tbody>\n",
       "</table>\n",
       "</div>"
      ],
      "text/plain": [
       "   x(Quantidade de poluente)  y(Índice de dano ecológico)  x*y  x**2\n",
       "0                          1                            3    3     1\n",
       "1                          2                            6   12     4\n",
       "2                          3                            7   21     9\n",
       "3                          4                           10   40    16\n",
       "4                          5                           10   50    25\n",
       "5                          6                           12   72    36"
      ]
     },
     "execution_count": 113,
     "metadata": {},
     "output_type": "execute_result"
    }
   ],
   "source": [
    "df2['x*y'] = (df2['x(Quantidade de poluente)'] * df2['y(Índice de dano ecológico)'])\n",
    "df2['x**2']=(df2['x(Quantidade de poluente)'] * df2['x(Quantidade de poluente)'])\n",
    "df2"
   ]
  },
  {
   "cell_type": "code",
   "execution_count": 131,
   "metadata": {},
   "outputs": [],
   "source": [
    "b=(6*df2['x*y'].sum()-df2['x(Quantidade de poluente)'].sum() * df2['y(Índice de dano ecológico)'].sum())/(6*df2['x**2'].sum()-(df2['x(Quantidade de poluente)'].sum())**2)\n",
    "a=(df2['x(Quantidade de poluente)'].sum()*df2['x*y'].sum()-df2['y(Índice de dano ecológico)'].sum()*df2['x**2'].sum())/((df2['x(Quantidade de poluente)'].sum())**2-6*df2['x**2'].sum())\n"
   ]
  },
  {
   "cell_type": "code",
   "execution_count": 133,
   "metadata": {},
   "outputs": [
    {
     "name": "stdout",
     "output_type": "stream",
     "text": [
      "O valor de a é 2.00\n",
      "O valor de b é 1.71\n"
     ]
    }
   ],
   "source": [
    "print('O valor de a é %.2f'% a)\n",
    "print('O valor de b é %.2f'% b)"
   ]
  },
  {
   "cell_type": "markdown",
   "metadata": {},
   "source": [
    "# Exercício 4:\n",
    "\n",
    "O dado da tabela abaixo segue uma Lei de Potência ($y=ax^b$). Quais são os valores de $a$ e $b$?\n",
    "\n",
    "| x | y |\n",
    "| --- | --- |\n",
    "| 9 | 13.96 |\n",
    "| 30 | 59.23 |\n",
    "| 40 | 83.65 |\n",
    "| 570 | 2027.91 |\n",
    "| 1000 | 3981.07 |\n",
    "\n",
    "a) $a=0.9122$ e $b=4.21$.<br>\n",
    "b) $a=1.128$ e $b=-1.5$.<br>\n",
    "c) $a=1.21$ e $b=1.23$.<br>\n",
    "d) $a=-0.000175$ e $b=1.2$.<br>\n",
    "e) $a=1.0$ e $b=1.2$."
   ]
  },
  {
   "cell_type": "markdown",
   "metadata": {},
   "source": [
    "Cálculo dos parâmetros de forma analítica, linearizando-se o logarítmo da lei de potência."
   ]
  },
  {
   "cell_type": "code",
   "execution_count": 53,
   "metadata": {},
   "outputs": [
    {
     "data": {
      "text/html": [
       "<div>\n",
       "<style scoped>\n",
       "    .dataframe tbody tr th:only-of-type {\n",
       "        vertical-align: middle;\n",
       "    }\n",
       "\n",
       "    .dataframe tbody tr th {\n",
       "        vertical-align: top;\n",
       "    }\n",
       "\n",
       "    .dataframe thead th {\n",
       "        text-align: right;\n",
       "    }\n",
       "</style>\n",
       "<table border=\"1\" class=\"dataframe\">\n",
       "  <thead>\n",
       "    <tr style=\"text-align: right;\">\n",
       "      <th></th>\n",
       "      <th>ln(x)</th>\n",
       "      <th>ln(y)</th>\n",
       "    </tr>\n",
       "  </thead>\n",
       "  <tbody>\n",
       "    <tr>\n",
       "      <th>0</th>\n",
       "      <td>2.197225</td>\n",
       "      <td>2.636196</td>\n",
       "    </tr>\n",
       "    <tr>\n",
       "      <th>1</th>\n",
       "      <td>3.401197</td>\n",
       "      <td>4.081428</td>\n",
       "    </tr>\n",
       "    <tr>\n",
       "      <th>2</th>\n",
       "      <td>3.688879</td>\n",
       "      <td>4.426641</td>\n",
       "    </tr>\n",
       "    <tr>\n",
       "      <th>3</th>\n",
       "      <td>6.345636</td>\n",
       "      <td>7.614761</td>\n",
       "    </tr>\n",
       "    <tr>\n",
       "      <th>4</th>\n",
       "      <td>6.907755</td>\n",
       "      <td>8.289306</td>\n",
       "    </tr>\n",
       "  </tbody>\n",
       "</table>\n",
       "</div>"
      ],
      "text/plain": [
       "      ln(x)     ln(y)\n",
       "0  2.197225  2.636196\n",
       "1  3.401197  4.081428\n",
       "2  3.688879  4.426641\n",
       "3  6.345636  7.614761\n",
       "4  6.907755  8.289306"
      ]
     },
     "execution_count": 53,
     "metadata": {},
     "output_type": "execute_result"
    }
   ],
   "source": [
    "import math\n",
    "\n",
    "d1 = {'ln(x)': [math.log(9), math.log(30), math.log(40), math.log(570), math.log(1000)], 'ln(y)': [math.log(13.96), math.log(59.23), math.log(83.65), math.log(2027.91), math.log(3981.07)]}\n",
    "df1 = pd.DataFrame(data=d1)\n",
    "df1\n"
   ]
  },
  {
   "cell_type": "code",
   "execution_count": 60,
   "metadata": {},
   "outputs": [
    {
     "data": {
      "text/html": [
       "<div>\n",
       "<style scoped>\n",
       "    .dataframe tbody tr th:only-of-type {\n",
       "        vertical-align: middle;\n",
       "    }\n",
       "\n",
       "    .dataframe tbody tr th {\n",
       "        vertical-align: top;\n",
       "    }\n",
       "\n",
       "    .dataframe thead th {\n",
       "        text-align: right;\n",
       "    }\n",
       "</style>\n",
       "<table border=\"1\" class=\"dataframe\">\n",
       "  <thead>\n",
       "    <tr style=\"text-align: right;\">\n",
       "      <th></th>\n",
       "      <th>ln(x)</th>\n",
       "      <th>ln(y)</th>\n",
       "      <th>ln(x)*ln(y)</th>\n",
       "      <th>ln(x)**2</th>\n",
       "    </tr>\n",
       "  </thead>\n",
       "  <tbody>\n",
       "    <tr>\n",
       "      <th>0</th>\n",
       "      <td>2.197225</td>\n",
       "      <td>2.636196</td>\n",
       "      <td>5.792315</td>\n",
       "      <td>4.827796</td>\n",
       "    </tr>\n",
       "    <tr>\n",
       "      <th>1</th>\n",
       "      <td>3.401197</td>\n",
       "      <td>4.081428</td>\n",
       "      <td>13.881743</td>\n",
       "      <td>11.568144</td>\n",
       "    </tr>\n",
       "    <tr>\n",
       "      <th>2</th>\n",
       "      <td>3.688879</td>\n",
       "      <td>4.426641</td>\n",
       "      <td>16.329347</td>\n",
       "      <td>13.607832</td>\n",
       "    </tr>\n",
       "    <tr>\n",
       "      <th>3</th>\n",
       "      <td>6.345636</td>\n",
       "      <td>7.614761</td>\n",
       "      <td>48.320504</td>\n",
       "      <td>40.267101</td>\n",
       "    </tr>\n",
       "    <tr>\n",
       "      <th>4</th>\n",
       "      <td>6.907755</td>\n",
       "      <td>8.289306</td>\n",
       "      <td>57.260497</td>\n",
       "      <td>47.717083</td>\n",
       "    </tr>\n",
       "  </tbody>\n",
       "</table>\n",
       "</div>"
      ],
      "text/plain": [
       "      ln(x)     ln(y)  ln(x)*ln(y)   ln(x)**2\n",
       "0  2.197225  2.636196     5.792315   4.827796\n",
       "1  3.401197  4.081428    13.881743  11.568144\n",
       "2  3.688879  4.426641    16.329347  13.607832\n",
       "3  6.345636  7.614761    48.320504  40.267101\n",
       "4  6.907755  8.289306    57.260497  47.717083"
      ]
     },
     "execution_count": 60,
     "metadata": {},
     "output_type": "execute_result"
    }
   ],
   "source": [
    "df1['ln(x)*ln(y)'] = (df1['ln(x)'] * df1['ln(y)'])\n",
    "df1['ln(x)**2']=(df1['ln(x)'] * df1['ln(x)'])\n",
    "df1"
   ]
  },
  {
   "cell_type": "code",
   "execution_count": 69,
   "metadata": {},
   "outputs": [],
   "source": [
    "a=(df1.iloc[:, 0].sum()*df1.iloc[:, 2].sum()-df1.iloc[:, 1].sum()*df1.iloc[:, 3].sum())/(df1.iloc[:, 0].sum()*df1.iloc[:, 0].sum()-5*df1.iloc[:, 3].sum())"
   ]
  },
  {
   "cell_type": "code",
   "execution_count": 71,
   "metadata": {},
   "outputs": [],
   "source": [
    "b=(5*df1.iloc[:, 2].sum()-df1.iloc[:, 0].sum()*df1.iloc[:, 1].sum())/(5*df1.iloc[:, 3].sum()-df1.iloc[:, 0].sum()*df1.iloc[:, 0].sum())"
   ]
  },
  {
   "cell_type": "code",
   "execution_count": 78,
   "metadata": {},
   "outputs": [
    {
     "name": "stdout",
     "output_type": "stream",
     "text": [
      "O valor de a é 1.00\n",
      "O valor de b é 1.20\n"
     ]
    }
   ],
   "source": [
    "print('O valor de a é %.2f'% 2.718**a)\n",
    "print('O valor de b é %.2f'% b)"
   ]
  },
  {
   "cell_type": "markdown",
   "metadata": {},
   "source": [
    "# Exercício 5:\n",
    "\n",
    "Uma rede de varejo quer contratar dois novos vendedores para as festas de final de ano selecionando os candidatos que provavelmente venderão mais. Para isso, todos os atuais vendedores passaram por um teste de personalidade para medir o seu grau de inteligência e extroversão, a fim de relacionar, através de um modelo linear multivariado, essas duas variáveis com os seus respecitivos desempenhos de vendas. Os dados coletados para os atuais vendedores foram:\n",
    "\n",
    "| Inteligência | Extroversão | Vendas/semana (R$) |\n",
    "| --- | --- |--- |\n",
    "| 90 | 22 | 2626 |\n",
    "| 94 | 25 | 2710 |\n",
    "| 92 | 20 | 3090 |\n",
    "| 121 | 22 | 3130 |\n",
    "| 115 | 27 | 3175 |\n",
    "| 101 | 18 | 3105 |\n",
    "| 97 | 15 | 2710 |\n",
    "| 105 | 16 | 2475 |\n",
    "| 112 | 23 | 3625 |\n",
    "| 109 | 28 | 3525 |\n",
    "| 130 | 20 | 3225 |\n",
    "| 105 | 26 | 3450 |\n",
    "| 104 | 20 | 2425 |\n",
    "| 111 | 26 | 3025 |\n",
    "| 96 | 27 | 2620 |\n",
    "| 115 | 29 | 2750 |\n",
    "| 113 | 25 | 3150 |\n",
    "| 88 | 23 | 2600 |\n",
    "| 107 | 18 | 2520 |\n",
    "| 102 | 17 | 2655 |\n",
    "\n",
    "Os candidatos a novos vendedores também passaram pelo teste de personalidade e os dados foram:\n",
    "\n",
    "| Candidato | Inteligência | Extroversão |\n",
    "| --- | --- | --- |\n",
    "| A | 150 | 15 |\n",
    "| B | 50 | 30 |\n",
    "| C | 120 | 25 |\n",
    "| D | 90 | 19 |\n",
    "| E | 100 | 23 |\n",
    "\n",
    "Quem a rede de varejo deveria contratar?\n",
    "\n",
    "a) A e B.<br>\n",
    "b) C e D.<br>\n",
    "c) A e C.<br>\n",
    "d) D e E.<br>\n",
    "e) A e E."
   ]
  },
  {
   "cell_type": "code",
   "execution_count": null,
   "metadata": {},
   "outputs": [],
   "source": [
    "from sklearn.linear_model import LinearRegression"
   ]
  },
  {
   "cell_type": "code",
   "execution_count": 137,
   "metadata": {},
   "outputs": [],
   "source": [
    "X = {'Inteligência': [90, 94, 92, 121, 115, 101, 97, 105, 112, 109, 130, 105, 104, 111, 96, 115, 113, 88, 107, 102], 'Extroversão': [22, 25, 20, 22, 27, 18, 15, 16, 23, 28, 20, 26, 20, 26, 27, 29, 25, 23, 18, 17], 'Vendas/semana (R$)':[2626, 2710, 3090, 3130, 3175, 3105, 2710, 2475, 3625, 3525, 3225, 3450, 2425, 3025, 2620, 2750, 3150, 2600, 2520, 2655]}\n",
    "df2 = pd.DataFrame(data=X)"
   ]
  },
  {
   "cell_type": "code",
   "execution_count": 139,
   "metadata": {},
   "outputs": [
    {
     "data": {
      "text/html": [
       "<div>\n",
       "<style scoped>\n",
       "    .dataframe tbody tr th:only-of-type {\n",
       "        vertical-align: middle;\n",
       "    }\n",
       "\n",
       "    .dataframe tbody tr th {\n",
       "        vertical-align: top;\n",
       "    }\n",
       "\n",
       "    .dataframe thead th {\n",
       "        text-align: right;\n",
       "    }\n",
       "</style>\n",
       "<table border=\"1\" class=\"dataframe\">\n",
       "  <thead>\n",
       "    <tr style=\"text-align: right;\">\n",
       "      <th></th>\n",
       "      <th>Inteligência</th>\n",
       "      <th>Extroversão</th>\n",
       "      <th>Vendas/semana (R$)</th>\n",
       "    </tr>\n",
       "  </thead>\n",
       "  <tbody>\n",
       "    <tr>\n",
       "      <th>0</th>\n",
       "      <td>90</td>\n",
       "      <td>22</td>\n",
       "      <td>2626</td>\n",
       "    </tr>\n",
       "    <tr>\n",
       "      <th>1</th>\n",
       "      <td>94</td>\n",
       "      <td>25</td>\n",
       "      <td>2710</td>\n",
       "    </tr>\n",
       "    <tr>\n",
       "      <th>2</th>\n",
       "      <td>92</td>\n",
       "      <td>20</td>\n",
       "      <td>3090</td>\n",
       "    </tr>\n",
       "    <tr>\n",
       "      <th>3</th>\n",
       "      <td>121</td>\n",
       "      <td>22</td>\n",
       "      <td>3130</td>\n",
       "    </tr>\n",
       "    <tr>\n",
       "      <th>4</th>\n",
       "      <td>115</td>\n",
       "      <td>27</td>\n",
       "      <td>3175</td>\n",
       "    </tr>\n",
       "    <tr>\n",
       "      <th>5</th>\n",
       "      <td>101</td>\n",
       "      <td>18</td>\n",
       "      <td>3105</td>\n",
       "    </tr>\n",
       "    <tr>\n",
       "      <th>6</th>\n",
       "      <td>97</td>\n",
       "      <td>15</td>\n",
       "      <td>2710</td>\n",
       "    </tr>\n",
       "    <tr>\n",
       "      <th>7</th>\n",
       "      <td>105</td>\n",
       "      <td>16</td>\n",
       "      <td>2475</td>\n",
       "    </tr>\n",
       "    <tr>\n",
       "      <th>8</th>\n",
       "      <td>112</td>\n",
       "      <td>23</td>\n",
       "      <td>3625</td>\n",
       "    </tr>\n",
       "    <tr>\n",
       "      <th>9</th>\n",
       "      <td>109</td>\n",
       "      <td>28</td>\n",
       "      <td>3525</td>\n",
       "    </tr>\n",
       "    <tr>\n",
       "      <th>10</th>\n",
       "      <td>130</td>\n",
       "      <td>20</td>\n",
       "      <td>3225</td>\n",
       "    </tr>\n",
       "    <tr>\n",
       "      <th>11</th>\n",
       "      <td>105</td>\n",
       "      <td>26</td>\n",
       "      <td>3450</td>\n",
       "    </tr>\n",
       "    <tr>\n",
       "      <th>12</th>\n",
       "      <td>104</td>\n",
       "      <td>20</td>\n",
       "      <td>2425</td>\n",
       "    </tr>\n",
       "    <tr>\n",
       "      <th>13</th>\n",
       "      <td>111</td>\n",
       "      <td>26</td>\n",
       "      <td>3025</td>\n",
       "    </tr>\n",
       "    <tr>\n",
       "      <th>14</th>\n",
       "      <td>96</td>\n",
       "      <td>27</td>\n",
       "      <td>2620</td>\n",
       "    </tr>\n",
       "    <tr>\n",
       "      <th>15</th>\n",
       "      <td>115</td>\n",
       "      <td>29</td>\n",
       "      <td>2750</td>\n",
       "    </tr>\n",
       "    <tr>\n",
       "      <th>16</th>\n",
       "      <td>113</td>\n",
       "      <td>25</td>\n",
       "      <td>3150</td>\n",
       "    </tr>\n",
       "    <tr>\n",
       "      <th>17</th>\n",
       "      <td>88</td>\n",
       "      <td>23</td>\n",
       "      <td>2600</td>\n",
       "    </tr>\n",
       "    <tr>\n",
       "      <th>18</th>\n",
       "      <td>107</td>\n",
       "      <td>18</td>\n",
       "      <td>2520</td>\n",
       "    </tr>\n",
       "    <tr>\n",
       "      <th>19</th>\n",
       "      <td>102</td>\n",
       "      <td>17</td>\n",
       "      <td>2655</td>\n",
       "    </tr>\n",
       "  </tbody>\n",
       "</table>\n",
       "</div>"
      ],
      "text/plain": [
       "    Inteligência  Extroversão  Vendas/semana (R$)\n",
       "0             90           22                2626\n",
       "1             94           25                2710\n",
       "2             92           20                3090\n",
       "3            121           22                3130\n",
       "4            115           27                3175\n",
       "5            101           18                3105\n",
       "6             97           15                2710\n",
       "7            105           16                2475\n",
       "8            112           23                3625\n",
       "9            109           28                3525\n",
       "10           130           20                3225\n",
       "11           105           26                3450\n",
       "12           104           20                2425\n",
       "13           111           26                3025\n",
       "14            96           27                2620\n",
       "15           115           29                2750\n",
       "16           113           25                3150\n",
       "17            88           23                2600\n",
       "18           107           18                2520\n",
       "19           102           17                2655"
      ]
     },
     "execution_count": 139,
     "metadata": {},
     "output_type": "execute_result"
    }
   ],
   "source": [
    "df2"
   ]
  },
  {
   "cell_type": "code",
   "execution_count": 143,
   "metadata": {},
   "outputs": [],
   "source": [
    "from sklearn.linear_model import LinearRegression\n",
    "model=LinearRegression() # Selecting a linear model"
   ]
  },
  {
   "cell_type": "code",
   "execution_count": 162,
   "metadata": {},
   "outputs": [
    {
     "data": {
      "text/plain": [
       "LinearRegression(copy_X=True, fit_intercept=True, n_jobs=None, normalize=False)"
      ]
     },
     "execution_count": 162,
     "metadata": {},
     "output_type": "execute_result"
    }
   ],
   "source": [
    "lin_reg=model.fit(df2.iloc[:,0:2],df2.iloc[:,2]) # Estimating the model parameters"
   ]
  },
  {
   "cell_type": "code",
   "execution_count": 164,
   "metadata": {},
   "outputs": [
    {
     "name": "stdout",
     "output_type": "stream",
     "text": [
      "0.3217975744034808\n",
      "[14.09875682 27.36018935]\n",
      "832.7457365962227\n"
     ]
    }
   ],
   "source": [
    "#print(type(lin_reg))\n",
    "#print(dir(lin_reg))\n",
    "\n",
    "#print(lin_reg.get_params())\n",
    "\n",
    "print(model.score(df2.iloc[:,0:2],df2.iloc[:,2])) # R^2\n",
    "\n",
    "\n",
    "\n",
    "print(lin_reg.coef_) # theta_1, theta_2, ...\n",
    "print(lin_reg.intercept_) # theta_0"
   ]
  },
  {
   "cell_type": "code",
   "execution_count": 166,
   "metadata": {},
   "outputs": [],
   "source": [
    "X = {'Candidato': ['A', 'B', 'C', 'D', 'E'], 'Inteligência': [150, 50, 120, 90, 100], 'Extroversão':[15, 30, 25, 19, 23]}\n",
    "df3 = pd.DataFrame(data=X)"
   ]
  },
  {
   "cell_type": "code",
   "execution_count": 167,
   "metadata": {},
   "outputs": [
    {
     "data": {
      "text/html": [
       "<div>\n",
       "<style scoped>\n",
       "    .dataframe tbody tr th:only-of-type {\n",
       "        vertical-align: middle;\n",
       "    }\n",
       "\n",
       "    .dataframe tbody tr th {\n",
       "        vertical-align: top;\n",
       "    }\n",
       "\n",
       "    .dataframe thead th {\n",
       "        text-align: right;\n",
       "    }\n",
       "</style>\n",
       "<table border=\"1\" class=\"dataframe\">\n",
       "  <thead>\n",
       "    <tr style=\"text-align: right;\">\n",
       "      <th></th>\n",
       "      <th>Candidato</th>\n",
       "      <th>Inteligência</th>\n",
       "      <th>Extroversão</th>\n",
       "    </tr>\n",
       "  </thead>\n",
       "  <tbody>\n",
       "    <tr>\n",
       "      <th>0</th>\n",
       "      <td>A</td>\n",
       "      <td>150</td>\n",
       "      <td>15</td>\n",
       "    </tr>\n",
       "    <tr>\n",
       "      <th>1</th>\n",
       "      <td>B</td>\n",
       "      <td>50</td>\n",
       "      <td>30</td>\n",
       "    </tr>\n",
       "    <tr>\n",
       "      <th>2</th>\n",
       "      <td>C</td>\n",
       "      <td>120</td>\n",
       "      <td>25</td>\n",
       "    </tr>\n",
       "    <tr>\n",
       "      <th>3</th>\n",
       "      <td>D</td>\n",
       "      <td>90</td>\n",
       "      <td>19</td>\n",
       "    </tr>\n",
       "    <tr>\n",
       "      <th>4</th>\n",
       "      <td>E</td>\n",
       "      <td>100</td>\n",
       "      <td>23</td>\n",
       "    </tr>\n",
       "  </tbody>\n",
       "</table>\n",
       "</div>"
      ],
      "text/plain": [
       "  Candidato  Inteligência  Extroversão\n",
       "0         A           150           15\n",
       "1         B            50           30\n",
       "2         C           120           25\n",
       "3         D            90           19\n",
       "4         E           100           23"
      ]
     },
     "execution_count": 167,
     "metadata": {},
     "output_type": "execute_result"
    }
   ],
   "source": [
    "df3"
   ]
  },
  {
   "cell_type": "code",
   "execution_count": 170,
   "metadata": {},
   "outputs": [
    {
     "data": {
      "text/plain": [
       "27.360189353535013"
      ]
     },
     "execution_count": 170,
     "metadata": {},
     "output_type": "execute_result"
    }
   ],
   "source": [
    "lin_reg.coef_[1]"
   ]
  },
  {
   "cell_type": "code",
   "execution_count": 178,
   "metadata": {},
   "outputs": [
    {
     "name": "stdout",
     "output_type": "stream",
     "text": [
      "   Inteligência  Extroversão\n",
      "0           150           15\n",
      "1            50           30\n",
      "2           120           25\n",
      "3            90           19\n",
      "4           100           23\n",
      "[3357.96210042 2358.48925838 3208.60128925 2621.47744843 2871.90577407]\n"
     ]
    }
   ],
   "source": [
    "Xnew=df3.iloc[:,1:3]\n",
    "\n",
    "ynew=model.predict(Xnew) # Make a prediction\n",
    "\n",
    "print(Xnew)\n",
    "print(ynew)"
   ]
  },
  {
   "cell_type": "code",
   "execution_count": 179,
   "metadata": {},
   "outputs": [],
   "source": [
    "df3['Vendas/semana']=ynew"
   ]
  },
  {
   "cell_type": "code",
   "execution_count": 191,
   "metadata": {},
   "outputs": [
    {
     "data": {
      "text/html": [
       "<div>\n",
       "<style scoped>\n",
       "    .dataframe tbody tr th:only-of-type {\n",
       "        vertical-align: middle;\n",
       "    }\n",
       "\n",
       "    .dataframe tbody tr th {\n",
       "        vertical-align: top;\n",
       "    }\n",
       "\n",
       "    .dataframe thead th {\n",
       "        text-align: right;\n",
       "    }\n",
       "</style>\n",
       "<table border=\"1\" class=\"dataframe\">\n",
       "  <thead>\n",
       "    <tr style=\"text-align: right;\">\n",
       "      <th></th>\n",
       "      <th>Candidato</th>\n",
       "      <th>Inteligência</th>\n",
       "      <th>Extroversão</th>\n",
       "      <th>Vendas/semana</th>\n",
       "    </tr>\n",
       "  </thead>\n",
       "  <tbody>\n",
       "    <tr>\n",
       "      <th>0</th>\n",
       "      <td>A</td>\n",
       "      <td>150</td>\n",
       "      <td>15</td>\n",
       "      <td>3357.962100</td>\n",
       "    </tr>\n",
       "    <tr>\n",
       "      <th>2</th>\n",
       "      <td>C</td>\n",
       "      <td>120</td>\n",
       "      <td>25</td>\n",
       "      <td>3208.601289</td>\n",
       "    </tr>\n",
       "    <tr>\n",
       "      <th>4</th>\n",
       "      <td>E</td>\n",
       "      <td>100</td>\n",
       "      <td>23</td>\n",
       "      <td>2871.905774</td>\n",
       "    </tr>\n",
       "    <tr>\n",
       "      <th>3</th>\n",
       "      <td>D</td>\n",
       "      <td>90</td>\n",
       "      <td>19</td>\n",
       "      <td>2621.477448</td>\n",
       "    </tr>\n",
       "    <tr>\n",
       "      <th>1</th>\n",
       "      <td>B</td>\n",
       "      <td>50</td>\n",
       "      <td>30</td>\n",
       "      <td>2358.489258</td>\n",
       "    </tr>\n",
       "  </tbody>\n",
       "</table>\n",
       "</div>"
      ],
      "text/plain": [
       "  Candidato  Inteligência  Extroversão  Vendas/semana\n",
       "0         A           150           15    3357.962100\n",
       "2         C           120           25    3208.601289\n",
       "4         E           100           23    2871.905774\n",
       "3         D            90           19    2621.477448\n",
       "1         B            50           30    2358.489258"
      ]
     },
     "execution_count": 191,
     "metadata": {},
     "output_type": "execute_result"
    }
   ],
   "source": [
    "df3.sort_values(by=[\"Vendas/semana\"], ascending=False)"
   ]
  }
 ],
 "metadata": {
  "kernelspec": {
   "display_name": "Python 3",
   "language": "python",
   "name": "python3"
  },
  "language_info": {
   "codemirror_mode": {
    "name": "ipython",
    "version": 3
   },
   "file_extension": ".py",
   "mimetype": "text/x-python",
   "name": "python",
   "nbconvert_exporter": "python",
   "pygments_lexer": "ipython3",
   "version": "3.7.6"
  }
 },
 "nbformat": 4,
 "nbformat_minor": 2
}
