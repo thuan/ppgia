{
  "nbformat": 4,
  "nbformat_minor": 0,
  "metadata": {
    "colab": {
      "name": "tensorflow",
      "provenance": [],
      "authorship_tag": "ABX9TyORchDJH7WrvZMP+Qa2UyC7",
      "include_colab_link": true
    },
    "kernelspec": {
      "name": "python3",
      "display_name": "Python 3"
    },
    "accelerator": "GPU"
  },
  "cells": [
    {
      "cell_type": "markdown",
      "metadata": {
        "id": "view-in-github",
        "colab_type": "text"
      },
      "source": [
        "<a href=\"https://colab.research.google.com/github/thuan/ppgia/blob/master/tensorflow.ipynb\" target=\"_parent\"><img src=\"https://colab.research.google.com/assets/colab-badge.svg\" alt=\"Open In Colab\"/></a>"
      ]
    },
    {
      "cell_type": "markdown",
      "metadata": {
        "id": "ejeDKZ5GmNIK",
        "colab_type": "text"
      },
      "source": [
        "SGD - Descida em gradiente\n"
      ]
    },
    {
      "cell_type": "code",
      "metadata": {
        "id": "gjaXUt3klnat",
        "colab_type": "code",
        "colab": {}
      },
      "source": [
        "import tensorflow as tf\n",
        "\n",
        "def funcao_min():\n",
        "  return x**2.0 - x * 3.0 + z * 4.0\n",
        "\n",
        "x = tf.Variable(40.0)\n",
        "z = tf.Variable(-30.0)\n"
      ],
      "execution_count": 3,
      "outputs": []
    }
  ]
}